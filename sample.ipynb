{
 "cells": [
  {
   "cell_type": "code",
   "execution_count": 1,
   "metadata": {},
   "outputs": [],
   "source": [
    "import pandas as pd\n",
    "import numpy as np\n",
    "from knsmote import KMeansSMOTE\n",
    "# from imblearn.over_sampling import KMeansSMOTE\n",
    "from sklearn.cluster import MiniBatchKMeans\n",
    "from collections import Counter\n",
    "from data import get_data\n",
    "import scipy.sparse as sparse"
   ]
  },
  {
   "cell_type": "code",
   "execution_count": 2,
   "metadata": {},
   "outputs": [
    {
     "name": "stdout",
     "output_type": "stream",
     "text": [
      "Original class distribution: Counter({4: 22503, 3: 8570, 0: 306, 2: 148, 1: 29})\n"
     ]
    }
   ],
   "source": [
    "# Define features and target variable\n",
    "X, y, X_feature_names = get_data()\n",
    "\n",
    "# Print original class distribution\n",
    "print(\"Original class distribution:\", Counter(y))"
   ]
  },
  {
   "cell_type": "code",
   "execution_count": 3,
   "metadata": {},
   "outputs": [
    {
     "name": "stdout",
     "output_type": "stream",
     "text": [
      "Resampled class distribution: Counter({3: 22510, 2: 22509, 0: 22506, 1: 22505, 4: 22503})\n"
     ]
    }
   ],
   "source": [
    "# Apply KMeansSMOTE to oversample minority classes\n",
    "# Adjust KMeansSMOTE parameters\n",
    "smote = KMeansSMOTE(\n",
    "    kmeans_estimator=MiniBatchKMeans(n_clusters=20, n_init=1, random_state=0),  # Increase clusters\n",
    "    cluster_balance_threshold=0.001,  # Lower threshold to allow smaller clusters\n",
    "    sampling_strategy=\"auto\",  # Try different values like {1: 500, 2: 500} for fine-tuning\n",
    "    random_state=42\n",
    ")\n",
    "\n",
    "# Apply SMOTE\n",
    "X_res, y_res = smote.fit_resample(X, y)\n",
    "\n",
    "# Print new class distribution\n",
    "print(\"Resampled class distribution:\", Counter(y_res))"
   ]
  },
  {
   "cell_type": "code",
   "execution_count": 4,
   "metadata": {},
   "outputs": [
    {
     "data": {
      "text/plain": [
       "(112533, 5287)"
      ]
     },
     "execution_count": 4,
     "metadata": {},
     "output_type": "execute_result"
    }
   ],
   "source": [
    "X_res.shape"
   ]
  },
  {
   "cell_type": "code",
   "execution_count": 5,
   "metadata": {},
   "outputs": [
    {
     "data": {
      "text/plain": [
       "5287"
      ]
     },
     "execution_count": 5,
     "metadata": {},
     "output_type": "execute_result"
    }
   ],
   "source": [
    "len(X_feature_names.tolist())"
   ]
  },
  {
   "cell_type": "code",
   "execution_count": 6,
   "metadata": {},
   "outputs": [],
   "source": [
    "# Convert back to DataFrame and save the oversampled dataset\n",
    "X_resampled_df = pd.DataFrame(X_res.toarray(), columns=X_feature_names.tolist())\n",
    "y_resampled_df = pd.DataFrame(y_res, columns=[\"impact\"])\n",
    "\n",
    "# Combine resampled features with impact\n",
    "resampled_df = pd.concat([y_resampled_df, X_resampled_df], axis=1)\n",
    "\n"
   ]
  },
  {
   "cell_type": "code",
   "execution_count": 7,
   "metadata": {},
   "outputs": [
    {
     "name": "stderr",
     "output_type": "stream",
     "text": [
      "c:\\Users\\paul-\\anaconda3\\envs\\python38\\lib\\site-packages\\numpy\\lib\\arraysetops.py:733: SparseEfficiencyWarning: Comparing a sparse matrix with 0 using == is inefficient, try using != instead.\n",
      "  mask |= (ar1 == a)\n"
     ]
    }
   ],
   "source": [
    "res = np.isin(X_res.toarray(), X).all(axis=1)"
   ]
  },
  {
   "cell_type": "code",
   "execution_count": 8,
   "metadata": {},
   "outputs": [
    {
     "data": {
      "text/plain": [
       "0"
      ]
     },
     "execution_count": 8,
     "metadata": {},
     "output_type": "execute_result"
    }
   ],
   "source": [
    "res.sum()"
   ]
  },
  {
   "cell_type": "code",
   "execution_count": 9,
   "metadata": {},
   "outputs": [],
   "source": [
    "import h5py"
   ]
  },
  {
   "cell_type": "code",
   "execution_count": 10,
   "metadata": {},
   "outputs": [],
   "source": [
    "def save_data_withh5py(X_res, y_res):\n",
    "    # Convert X to sparse CSR if it's dense\n",
    "    if not sparse.issparse(X_res):\n",
    "        X_res = sparse.csr_matrix(X_res)\n",
    "    with h5py.File(\"output/features4ausw4linearsvc_trainsampled.h5\", \"w\") as f:\n",
    "        # Save sparse matrix X as a compressed dataset\n",
    "        f.create_dataset(\"X_data\", data=X_res.data)\n",
    "        f.create_dataset(\"X_indices\", data=X_res.indices)\n",
    "        f.create_dataset(\"X_indptr\", data=X_res.indptr)\n",
    "        f.create_dataset(\"X_shape\", data=X_res.shape)\n",
    "\n",
    "        # Save y as a dense dataset\n",
    "        f.create_dataset(\"y\", data=y_res)\n",
    "\n",
    "save_data_withh5py(X_res, y_res)"
   ]
  }
 ],
 "metadata": {
  "kernelspec": {
   "display_name": "python38",
   "language": "python",
   "name": "python3"
  },
  "language_info": {
   "codemirror_mode": {
    "name": "ipython",
    "version": 3
   },
   "file_extension": ".py",
   "mimetype": "text/x-python",
   "name": "python",
   "nbconvert_exporter": "python",
   "pygments_lexer": "ipython3",
   "version": "3.8.20"
  }
 },
 "nbformat": 4,
 "nbformat_minor": 2
}
