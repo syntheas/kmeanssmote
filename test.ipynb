{
 "cells": [
  {
   "cell_type": "code",
   "execution_count": 2,
   "metadata": {},
   "outputs": [],
   "source": [
    "import numpy as np\n",
    "from knsmote import KMeansSMOTE\n",
    "from sklearn.datasets import make_blobs\n",
    "from sklearn.cluster import MiniBatchKMeans"
   ]
  },
  {
   "cell_type": "code",
   "execution_count": 3,
   "metadata": {},
   "outputs": [
    {
     "name": "stderr",
     "output_type": "stream",
     "text": [
      "c:\\Users\\paul-\\anaconda3\\envs\\python38\\lib\\site-packages\\joblib\\externals\\loky\\backend\\context.py:136: UserWarning: Could not find the number of physical cores for the following reason:\n",
      "found 0 physical cores < 1\n",
      "Returning the number of logical cores instead. You can silence this warning by setting LOKY_MAX_CPU_COUNT to the number of cores you want to use.\n",
      "  warnings.warn(\n",
      "  File \"c:\\Users\\paul-\\anaconda3\\envs\\python38\\lib\\site-packages\\joblib\\externals\\loky\\backend\\context.py\", line 282, in _count_physical_cores\n",
      "    raise ValueError(f\"found {cpu_count_physical} physical cores < 1\")\n"
     ]
    }
   ],
   "source": [
    "blobs = [100, 800, 100]\n",
    "X, y  = make_blobs(blobs, centers=[(-10, 0), (0,0), (10, 0)], random_state=0)\n",
    "# Add a single 0 sample in the middle blob\n",
    "X = np.concatenate([X, [[0, 0]]])\n",
    "y = np.append(y, 0)\n",
    "# Make this a binary classification problem\n",
    "y = y == 1\n",
    "sm = KMeansSMOTE(\n",
    "    kmeans_estimator=MiniBatchKMeans(n_init=1, random_state=0), random_state=42\n",
    ")\n",
    "X_res, y_res = sm.fit_resample(X, y)\n",
    "# Find the number of new samples in the middle blob\n",
    "n_res_in_middle = ((X_res[:, 0] > -5) & (X_res[:, 0] < 5)).sum()"
   ]
  },
  {
   "cell_type": "code",
   "execution_count": 4,
   "metadata": {},
   "outputs": [
    {
     "name": "stdout",
     "output_type": "stream",
     "text": [
      "Samples in the middle blob: 801\n",
      "Middle blob unchanged: True\n",
      "More 0 samples: True\n"
     ]
    }
   ],
   "source": [
    "print(\"Samples in the middle blob: %s\" % n_res_in_middle)\n",
    "print(\"Middle blob unchanged: %s\" % (n_res_in_middle == blobs[1] + 1))\n",
    "print(\"More 0 samples: %s\" % ((y_res == 0).sum() > (y == 0).sum()))"
   ]
  }
 ],
 "metadata": {
  "kernelspec": {
   "display_name": "python38",
   "language": "python",
   "name": "python3"
  },
  "language_info": {
   "codemirror_mode": {
    "name": "ipython",
    "version": 3
   },
   "file_extension": ".py",
   "mimetype": "text/x-python",
   "name": "python",
   "nbconvert_exporter": "python",
   "pygments_lexer": "ipython3",
   "version": "3.8.20"
  }
 },
 "nbformat": 4,
 "nbformat_minor": 2
}
